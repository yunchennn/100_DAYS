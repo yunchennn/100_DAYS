{
 "cells": [
  {
   "cell_type": "code",
   "execution_count": 1,
   "metadata": {},
   "outputs": [],
   "source": [
    "import pandas as pd \n",
    "import numpy as np \n",
    "import random\n"
   ]
  },
  {
   "cell_type": "code",
   "execution_count": 13,
   "metadata": {},
   "outputs": [
    {
     "name": "stdout",
     "output_type": "stream",
     "text": [
      "            國家         人口\n",
      "0       Taiwan  123377980\n",
      "1     American   47437543\n",
      "2        China   25862264\n",
      "3        Japan  502327624\n",
      "4  South Korea  178296227\n",
      "5     Thailand  310303277\n"
     ]
    }
   ],
   "source": [
    "data={'國家':[\"Taiwan\",\"American\",\"China\",\"Japan\",\"South Korea\",\"Thailand\"] ,\n",
    "        '人口':np.random.randint(10**6,10**9,size=6)}\n",
    "pp=pd.DataFrame(data)\n",
    "print(pp)"
   ]
  },
  {
   "cell_type": "code",
   "execution_count": 15,
   "metadata": {},
   "outputs": [
    {
     "name": "stdout",
     "output_type": "stream",
     "text": [
      "Max:\n",
      "502327624\n"
     ]
    }
   ],
   "source": [
    "#最大值\n",
    "maxs=pp[\"人口\"].max()\n",
    "print(\"Max:\")\n",
    "print(maxs)"
   ]
  },
  {
   "cell_type": "code",
   "execution_count": 5,
   "metadata": {},
   "outputs": [],
   "source": [
    "data = {'weekday':['Sun','Sun','Mon','Mon'],'city':['Austin', 'Dallas', 'Austin', 'Dallas'],'visitor':[139,237,326,456]}"
   ]
  },
  {
   "cell_type": "code",
   "execution_count": 6,
   "metadata": {},
   "outputs": [
    {
     "name": "stdout",
     "output_type": "stream",
     "text": [
      "  weekday    city  visitor\n",
      "0     Sun  Austin      139\n",
      "1     Sun  Dallas      237\n",
      "2     Mon  Austin      326\n",
      "3     Mon  Dallas      456\n"
     ]
    }
   ],
   "source": [
    "pp=pd.DataFrame(data)\n",
    "print(pp)"
   ]
  },
  {
   "cell_type": "code",
   "execution_count": 7,
   "metadata": {},
   "outputs": [],
   "source": [
    "cities=['Austin', 'Dallas', 'Austin', 'Dallas']\n",
    "weekdays=['Sun','Sun','Mon','Mon']\n",
    "visitors=[139,237,326,456]\n",
    "        \n",
    "list_labels=['city','weekday','visitor']\n",
    "list_cols=[cities,weekdays,visitors]\n",
    "z=list(zip(list_labels,list_cols))\n",
    "#zip:将对象中对应的元素打包成一个个元组，然后返回由这些元组组成的列表"
   ]
  },
  {
   "cell_type": "code",
   "execution_count": 8,
   "metadata": {},
   "outputs": [
    {
     "name": "stdout",
     "output_type": "stream",
     "text": [
      "     city weekday  visitor\n",
      "0  Austin     Sun      139\n",
      "1  Dallas     Sun      237\n",
      "2  Austin     Mon      326\n",
      "3  Dallas     Mon      456\n"
     ]
    }
   ],
   "source": [
    "visitor_2=pd.DataFrame(dict(z))\n",
    "print(visitor_2)"
   ]
  },
  {
   "cell_type": "code",
   "execution_count": 9,
   "metadata": {},
   "outputs": [
    {
     "data": {
      "text/plain": [
       "weekday\n",
       "Mon    391\n",
       "Sun    188\n",
       "Name: visitor, dtype: int64"
      ]
     },
     "execution_count": 9,
     "metadata": {},
     "output_type": "execute_result"
    }
   ],
   "source": [
    "pp.groupby(by=\"weekday\")['visitor'].mean()"
   ]
  },
  {
   "cell_type": "code",
   "execution_count": null,
   "metadata": {},
   "outputs": [],
   "source": []
  }
 ],
 "metadata": {
  "kernelspec": {
   "display_name": "Python 3",
   "language": "python",
   "name": "python3"
  },
  "language_info": {
   "codemirror_mode": {
    "name": "ipython",
    "version": 3
   },
   "file_extension": ".py",
   "mimetype": "text/x-python",
   "name": "python",
   "nbconvert_exporter": "python",
   "pygments_lexer": "ipython3",
   "version": "3.7.3"
  }
 },
 "nbformat": 4,
 "nbformat_minor": 2
}
